{
 "cells": [
  {
   "cell_type": "markdown",
   "metadata": {},
   "source": [
    "![QuantConnect Logo](https://cdn.quantconnect.com/web/i/icon.png)\n",
    "<hr>"
   ]
  },
  {
   "cell_type": "markdown",
   "metadata": {},
   "source": [
    "# Volatility per Hour\n",
    "\n",
    "\n",
    "At what hour of the day do we see how much volatility?\n",
    "\n",
    "volatility means standard derivation\n",
    "\n",
    "a high value means price is a in average far away from the mean price\n"
   ]
  },
  {
   "cell_type": "code",
   "execution_count": 3,
   "metadata": {},
   "outputs": [],
   "source": [
    "qb = QuantBook()\n",
    "resolution = Resolution.Hour\n",
    "windowlength = 24\n",
    "historylength = 24  * 360 * 5\n",
    "\n",
    "pairs = ['EURUSD']\n",
    "symbols = []\n",
    "for pair in pairs:\n",
    "    symbols.append( qb.AddForex(pair, resolution).Symbol )\n",
    "h = qb.History(symbols, historylength, resolution).close.unstack(level=0).dropna()"
   ]
  },
  {
   "cell_type": "code",
   "execution_count": 4,
   "metadata": {},
   "outputs": [],
   "source": [
    "zscore = lambda x: (x[-1] - x.mean()) / x.std()\n",
    "\n",
    "\n",
    "results = {}\n",
    "for pair in pairs:\n",
    "    h['zscore'] = h[pair].rolling(windowlength).apply(zscore)\n",
    "    results[pair] = []\n",
    "    for n in range(0,24):\n",
    "        results[pair].append( h['zscore'].between_time(str(n) + ':00', str(n) + ':59').mean() ** 2)\n",
    "\n",
    "df = pd.DataFrame(results)\n",
    "df.plot.bar(figsize=(5,3))\n",
    "\n"
   ]
  },
  {
   "cell_type": "code",
   "execution_count": null,
   "metadata": {},
   "outputs": [],
   "source": []
  }
 ],
 "metadata": {
  "kernelspec": {
   "display_name": "Python 3",
   "language": "python",
   "name": "python3"
  },
  "language_info": {
   "codemirror_mode": {
    "name": "ipython",
    "version": 3
   },
   "file_extension": ".py",
   "mimetype": "text/x-python",
   "name": "python",
   "nbconvert_exporter": "python",
   "pygments_lexer": "ipython3",
   "version": "3.6.8"
  }
 },
 "nbformat": 4,
 "nbformat_minor": 2
}
